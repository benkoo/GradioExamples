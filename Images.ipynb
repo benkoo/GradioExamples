{
 "cells": [
  {
   "cell_type": "code",
   "execution_count": null,
   "metadata": {},
   "outputs": [],
   "source": [
    "!pip install gradio"
   ]
  },
  {
   "cell_type": "code",
   "execution_count": 1,
   "metadata": {},
   "outputs": [
    {
     "name": "stderr",
     "output_type": "stream",
     "text": [
      "/Users/bkoo/Documents/Development/AIProjects/GradioMNIST/.venv/lib/python3.10/site-packages/tqdm/auto.py:21: TqdmWarning: IProgress not found. Please update jupyter and ipywidgets. See https://ipywidgets.readthedocs.io/en/stable/user_install.html\n",
      "  from .autonotebook import tqdm as notebook_tqdm\n"
     ]
    },
    {
     "name": "stdout",
     "output_type": "stream",
     "text": [
      "Running on local URL:  http://127.0.0.1:7860\n",
      "\n",
      "To create a public link, set `share=True` in `launch()`.\n"
     ]
    },
    {
     "data": {
      "text/html": [
       "<div><iframe src=\"http://127.0.0.1:7860/\" width=\"100%\" height=\"500\" allow=\"autoplay; camera; microphone; clipboard-read; clipboard-write;\" frameborder=\"0\" allowfullscreen></iframe></div>"
      ],
      "text/plain": [
       "<IPython.core.display.HTML object>"
      ]
     },
     "metadata": {},
     "output_type": "display_data"
    }
   ],
   "source": [
    "import gradio as gr\n",
    "import os\n",
    "\n",
    "ROOT_PATH = '/Users/bkoo/Documents/Development/AIProjects/GradioMNIST/' \n",
    "\n",
    "\n",
    "def image_mod(image):\n",
    "    return image.rotate(45)\n",
    "\n",
    "\n",
    "demo = gr.Interface(\n",
    "    image_mod,\n",
    "    gr.Image(type=\"pil\"),\n",
    "    \"image\",\n",
    "    flagging_options=[\"blurry\", \"incorrect\", \"other\"],\n",
    "    examples=[\n",
    "        os.path.join(ROOT_PATH, \"images/cheetah1.jpg\"),\n",
    "        os.path.join(ROOT_PATH, \"images/lion.jpg\"),\n",
    "        os.path.join(ROOT_PATH, \"images/logo.png\"),\n",
    "        os.path.join(ROOT_PATH, \"images/tower.jpg\"),\n",
    "    ],\n",
    ")\n",
    "\n",
    "if __name__ == \"__main__\":\n",
    "    demo.launch()\n",
    "\n"
   ]
  },
  {
   "cell_type": "code",
   "execution_count": 2,
   "metadata": {},
   "outputs": [],
   "source": [
    "import tensorflow as tf"
   ]
  },
  {
   "cell_type": "code",
   "execution_count": 14,
   "metadata": {},
   "outputs": [],
   "source": [
    "import requests\n",
    "import numpy as np\n",
    "# Download human-readable labels for ImageNet.\n",
    "response = requests.get(\"https://git.io/JJkYN\")\n",
    "labels = response.text.split(\"\\n\")\n",
    "\n",
    "def classify_image(inp):\n",
    "  inp = np.reshape(inp, (224, 224))\n",
    "  inp = tf.keras.applications.mobilenet_v2.preprocess_input(inp)\n",
    "  prediction = inception_net.predict(inp).flatten()\n",
    "  confidences = {labels[i]: float(prediction[i]) for i in range(1000)}\n",
    "  return confidences"
   ]
  },
  {
   "cell_type": "code",
   "execution_count": 15,
   "metadata": {},
   "outputs": [
    {
     "name": "stdout",
     "output_type": "stream",
     "text": [
      "Running on local URL:  http://127.0.0.1:7864\n",
      "\n",
      "To create a public link, set `share=True` in `launch()`.\n"
     ]
    },
    {
     "data": {
      "text/html": [
       "<div><iframe src=\"http://127.0.0.1:7864/\" width=\"100%\" height=\"500\" allow=\"autoplay; camera; microphone; clipboard-read; clipboard-write;\" frameborder=\"0\" allowfullscreen></iframe></div>"
      ],
      "text/plain": [
       "<IPython.core.display.HTML object>"
      ]
     },
     "metadata": {},
     "output_type": "display_data"
    },
    {
     "data": {
      "text/plain": []
     },
     "execution_count": 15,
     "metadata": {},
     "output_type": "execute_result"
    },
    {
     "name": "stderr",
     "output_type": "stream",
     "text": [
      "Traceback (most recent call last):\n",
      "  File \"/Users/bkoo/Documents/Development/AIProjects/GradioMNIST/.venv/lib/python3.10/site-packages/gradio/queueing.py\", line 495, in call_prediction\n",
      "    output = await route_utils.call_process_api(\n",
      "  File \"/Users/bkoo/Documents/Development/AIProjects/GradioMNIST/.venv/lib/python3.10/site-packages/gradio/route_utils.py\", line 235, in call_process_api\n",
      "    output = await app.get_blocks().process_api(\n",
      "  File \"/Users/bkoo/Documents/Development/AIProjects/GradioMNIST/.venv/lib/python3.10/site-packages/gradio/blocks.py\", line 1627, in process_api\n",
      "    result = await self.call_function(\n",
      "  File \"/Users/bkoo/Documents/Development/AIProjects/GradioMNIST/.venv/lib/python3.10/site-packages/gradio/blocks.py\", line 1173, in call_function\n",
      "    prediction = await anyio.to_thread.run_sync(\n",
      "  File \"/Users/bkoo/Documents/Development/AIProjects/GradioMNIST/.venv/lib/python3.10/site-packages/anyio/to_thread.py\", line 56, in run_sync\n",
      "    return await get_async_backend().run_sync_in_worker_thread(\n",
      "  File \"/Users/bkoo/Documents/Development/AIProjects/GradioMNIST/.venv/lib/python3.10/site-packages/anyio/_backends/_asyncio.py\", line 2144, in run_sync_in_worker_thread\n",
      "    return await future\n",
      "  File \"/Users/bkoo/Documents/Development/AIProjects/GradioMNIST/.venv/lib/python3.10/site-packages/anyio/_backends/_asyncio.py\", line 851, in run\n",
      "    result = context.run(func, *args)\n",
      "  File \"/Users/bkoo/Documents/Development/AIProjects/GradioMNIST/.venv/lib/python3.10/site-packages/gradio/utils.py\", line 690, in wrapper\n",
      "    response = f(*args, **kwargs)\n",
      "  File \"/var/folders/3_/8tx4hjjs045c_0h13q6w19s40000gn/T/ipykernel_40082/1781306471.py\", line 8, in classify_image\n",
      "    inp = np.reshape(inp, (224, 224))\n",
      "  File \"/Users/bkoo/Documents/Development/AIProjects/GradioMNIST/.venv/lib/python3.10/site-packages/numpy/core/fromnumeric.py\", line 285, in reshape\n",
      "    return _wrapfunc(a, 'reshape', newshape, order=order)\n",
      "  File \"/Users/bkoo/Documents/Development/AIProjects/GradioMNIST/.venv/lib/python3.10/site-packages/numpy/core/fromnumeric.py\", line 59, in _wrapfunc\n",
      "    return bound(*args, **kwds)\n",
      "ValueError: cannot reshape array of size 196608 into shape (224,224)\n"
     ]
    }
   ],
   "source": [
    "import gradio as gr\n",
    "\n",
    "gr.Interface(fn=classify_image,\n",
    "             inputs=gr.Image(),\n",
    "             outputs=gr.Label(num_top_classes=3),\n",
    "             examples=[\"images/cats.jpg\", \"images/lion.jpg\"]).launch()"
   ]
  },
  {
   "cell_type": "code",
   "execution_count": 16,
   "metadata": {},
   "outputs": [
    {
     "name": "stdout",
     "output_type": "stream",
     "text": [
      "Running on local URL:  http://127.0.0.1:7870\n",
      "\n",
      "To create a public link, set `share=True` in `launch()`.\n"
     ]
    },
    {
     "data": {
      "text/html": [
       "<div><iframe src=\"http://127.0.0.1:7870/\" width=\"100%\" height=\"500\" allow=\"autoplay; camera; microphone; clipboard-read; clipboard-write;\" frameborder=\"0\" allowfullscreen></iframe></div>"
      ],
      "text/plain": [
       "<IPython.core.display.HTML object>"
      ]
     },
     "metadata": {},
     "output_type": "display_data"
    },
    {
     "data": {
      "text/plain": []
     },
     "execution_count": 16,
     "metadata": {},
     "output_type": "execute_result"
    },
    {
     "name": "stderr",
     "output_type": "stream",
     "text": [
      "Traceback (most recent call last):\n",
      "  File \"/Users/bkoo/Documents/Development/AIProjects/GradioMNIST/.venv/lib/python3.10/site-packages/gradio/queueing.py\", line 495, in call_prediction\n",
      "    output = await route_utils.call_process_api(\n",
      "  File \"/Users/bkoo/Documents/Development/AIProjects/GradioMNIST/.venv/lib/python3.10/site-packages/gradio/route_utils.py\", line 235, in call_process_api\n",
      "    output = await app.get_blocks().process_api(\n",
      "  File \"/Users/bkoo/Documents/Development/AIProjects/GradioMNIST/.venv/lib/python3.10/site-packages/gradio/blocks.py\", line 1627, in process_api\n",
      "    result = await self.call_function(\n",
      "  File \"/Users/bkoo/Documents/Development/AIProjects/GradioMNIST/.venv/lib/python3.10/site-packages/gradio/blocks.py\", line 1173, in call_function\n",
      "    prediction = await anyio.to_thread.run_sync(\n",
      "  File \"/Users/bkoo/Documents/Development/AIProjects/GradioMNIST/.venv/lib/python3.10/site-packages/anyio/to_thread.py\", line 56, in run_sync\n",
      "    return await get_async_backend().run_sync_in_worker_thread(\n",
      "  File \"/Users/bkoo/Documents/Development/AIProjects/GradioMNIST/.venv/lib/python3.10/site-packages/anyio/_backends/_asyncio.py\", line 2144, in run_sync_in_worker_thread\n",
      "    return await future\n",
      "  File \"/Users/bkoo/Documents/Development/AIProjects/GradioMNIST/.venv/lib/python3.10/site-packages/anyio/_backends/_asyncio.py\", line 851, in run\n",
      "    result = context.run(func, *args)\n",
      "  File \"/Users/bkoo/Documents/Development/AIProjects/GradioMNIST/.venv/lib/python3.10/site-packages/gradio/utils.py\", line 690, in wrapper\n",
      "    response = f(*args, **kwargs)\n",
      "  File \"/var/folders/3_/8tx4hjjs045c_0h13q6w19s40000gn/T/ipykernel_36965/2620505551.py\", line 8, in classify_image\n",
      "    inp = inp.reshape((-1, 224, 224, 3))\n",
      "ValueError: cannot reshape array of size 1200000 into shape (224,224,3)\n",
      "Traceback (most recent call last):\n",
      "  File \"/Users/bkoo/Documents/Development/AIProjects/GradioMNIST/.venv/lib/python3.10/site-packages/gradio/queueing.py\", line 495, in call_prediction\n",
      "    output = await route_utils.call_process_api(\n",
      "  File \"/Users/bkoo/Documents/Development/AIProjects/GradioMNIST/.venv/lib/python3.10/site-packages/gradio/route_utils.py\", line 235, in call_process_api\n",
      "    output = await app.get_blocks().process_api(\n",
      "  File \"/Users/bkoo/Documents/Development/AIProjects/GradioMNIST/.venv/lib/python3.10/site-packages/gradio/blocks.py\", line 1627, in process_api\n",
      "    result = await self.call_function(\n",
      "  File \"/Users/bkoo/Documents/Development/AIProjects/GradioMNIST/.venv/lib/python3.10/site-packages/gradio/blocks.py\", line 1173, in call_function\n",
      "    prediction = await anyio.to_thread.run_sync(\n",
      "  File \"/Users/bkoo/Documents/Development/AIProjects/GradioMNIST/.venv/lib/python3.10/site-packages/anyio/to_thread.py\", line 56, in run_sync\n",
      "    return await get_async_backend().run_sync_in_worker_thread(\n",
      "  File \"/Users/bkoo/Documents/Development/AIProjects/GradioMNIST/.venv/lib/python3.10/site-packages/anyio/_backends/_asyncio.py\", line 2144, in run_sync_in_worker_thread\n",
      "    return await future\n",
      "  File \"/Users/bkoo/Documents/Development/AIProjects/GradioMNIST/.venv/lib/python3.10/site-packages/anyio/_backends/_asyncio.py\", line 851, in run\n",
      "    result = context.run(func, *args)\n",
      "  File \"/Users/bkoo/Documents/Development/AIProjects/GradioMNIST/.venv/lib/python3.10/site-packages/gradio/utils.py\", line 690, in wrapper\n",
      "    response = f(*args, **kwargs)\n",
      "  File \"/var/folders/3_/8tx4hjjs045c_0h13q6w19s40000gn/T/ipykernel_36965/2620505551.py\", line 8, in classify_image\n",
      "    inp = inp.reshape((-1, 224, 224, 3))\n",
      "ValueError: cannot reshape array of size 151200 into shape (224,224,3)\n"
     ]
    }
   ],
   "source": [
    "import gradio as gr\n",
    "\n",
    "gr.Interface(\n",
    "  fn=classify_image,\n",
    "  inputs=gr.Image(),\n",
    "  outputs=gr.Label(num_top_classes=3),\n",
    "  examples=[\"images/truck.jpg\", \"images/Dogs.jpeg\"]  \n",
    ").launch()"
   ]
  },
  {
   "cell_type": "code",
   "execution_count": 19,
   "metadata": {},
   "outputs": [
    {
     "name": "stdout",
     "output_type": "stream",
     "text": [
      "Running on local URL:  http://127.0.0.1:7873\n",
      "\n",
      "To create a public link, set `share=True` in `launch()`.\n"
     ]
    },
    {
     "data": {
      "text/html": [
       "<div><iframe src=\"http://127.0.0.1:7873/\" width=\"100%\" height=\"500\" allow=\"autoplay; camera; microphone; clipboard-read; clipboard-write;\" frameborder=\"0\" allowfullscreen></iframe></div>"
      ],
      "text/plain": [
       "<IPython.core.display.HTML object>"
      ]
     },
     "metadata": {},
     "output_type": "display_data"
    },
    {
     "data": {
      "text/plain": []
     },
     "execution_count": 19,
     "metadata": {},
     "output_type": "execute_result"
    },
    {
     "name": "stderr",
     "output_type": "stream",
     "text": [
      "Traceback (most recent call last):\n",
      "  File \"/Users/bkoo/Documents/Development/AIProjects/GradioMNIST/.venv/lib/python3.10/site-packages/gradio/queueing.py\", line 495, in call_prediction\n",
      "    output = await route_utils.call_process_api(\n",
      "  File \"/Users/bkoo/Documents/Development/AIProjects/GradioMNIST/.venv/lib/python3.10/site-packages/gradio/route_utils.py\", line 235, in call_process_api\n",
      "    output = await app.get_blocks().process_api(\n",
      "  File \"/Users/bkoo/Documents/Development/AIProjects/GradioMNIST/.venv/lib/python3.10/site-packages/gradio/blocks.py\", line 1627, in process_api\n",
      "    result = await self.call_function(\n",
      "  File \"/Users/bkoo/Documents/Development/AIProjects/GradioMNIST/.venv/lib/python3.10/site-packages/gradio/blocks.py\", line 1173, in call_function\n",
      "    prediction = await anyio.to_thread.run_sync(\n",
      "  File \"/Users/bkoo/Documents/Development/AIProjects/GradioMNIST/.venv/lib/python3.10/site-packages/anyio/to_thread.py\", line 56, in run_sync\n",
      "    return await get_async_backend().run_sync_in_worker_thread(\n",
      "  File \"/Users/bkoo/Documents/Development/AIProjects/GradioMNIST/.venv/lib/python3.10/site-packages/anyio/_backends/_asyncio.py\", line 2144, in run_sync_in_worker_thread\n",
      "    return await future\n",
      "  File \"/Users/bkoo/Documents/Development/AIProjects/GradioMNIST/.venv/lib/python3.10/site-packages/anyio/_backends/_asyncio.py\", line 851, in run\n",
      "    result = context.run(func, *args)\n",
      "  File \"/Users/bkoo/Documents/Development/AIProjects/GradioMNIST/.venv/lib/python3.10/site-packages/gradio/utils.py\", line 690, in wrapper\n",
      "    response = f(*args, **kwargs)\n",
      "  File \"/var/folders/3_/8tx4hjjs045c_0h13q6w19s40000gn/T/ipykernel_36965/2620505551.py\", line 8, in classify_image\n",
      "    inp = inp.reshape((-1, 224, 224, 3))\n",
      "ValueError: cannot reshape array of size 2507460 into shape (224,224,3)\n",
      "Traceback (most recent call last):\n",
      "  File \"/Users/bkoo/Documents/Development/AIProjects/GradioMNIST/.venv/lib/python3.10/site-packages/gradio/queueing.py\", line 495, in call_prediction\n",
      "    output = await route_utils.call_process_api(\n",
      "  File \"/Users/bkoo/Documents/Development/AIProjects/GradioMNIST/.venv/lib/python3.10/site-packages/gradio/route_utils.py\", line 235, in call_process_api\n",
      "    output = await app.get_blocks().process_api(\n",
      "  File \"/Users/bkoo/Documents/Development/AIProjects/GradioMNIST/.venv/lib/python3.10/site-packages/gradio/blocks.py\", line 1627, in process_api\n",
      "    result = await self.call_function(\n",
      "  File \"/Users/bkoo/Documents/Development/AIProjects/GradioMNIST/.venv/lib/python3.10/site-packages/gradio/blocks.py\", line 1173, in call_function\n",
      "    prediction = await anyio.to_thread.run_sync(\n",
      "  File \"/Users/bkoo/Documents/Development/AIProjects/GradioMNIST/.venv/lib/python3.10/site-packages/anyio/to_thread.py\", line 56, in run_sync\n",
      "    return await get_async_backend().run_sync_in_worker_thread(\n",
      "  File \"/Users/bkoo/Documents/Development/AIProjects/GradioMNIST/.venv/lib/python3.10/site-packages/anyio/_backends/_asyncio.py\", line 2144, in run_sync_in_worker_thread\n",
      "    return await future\n",
      "  File \"/Users/bkoo/Documents/Development/AIProjects/GradioMNIST/.venv/lib/python3.10/site-packages/anyio/_backends/_asyncio.py\", line 851, in run\n",
      "    result = context.run(func, *args)\n",
      "  File \"/Users/bkoo/Documents/Development/AIProjects/GradioMNIST/.venv/lib/python3.10/site-packages/gradio/utils.py\", line 690, in wrapper\n",
      "    response = f(*args, **kwargs)\n",
      "  File \"/var/folders/3_/8tx4hjjs045c_0h13q6w19s40000gn/T/ipykernel_36965/2620505551.py\", line 8, in classify_image\n",
      "    inp = inp.reshape((-1, 224, 224, 3))\n",
      "ValueError: cannot reshape array of size 2507460 into shape (224,224,3)\n"
     ]
    }
   ],
   "source": [
    "import gradio as gr\n",
    "import numpy as np\n",
    "\n",
    "from PIL import Image\n",
    "\n",
    "\n",
    "\n",
    "iface = gr.Interface(\n",
    "  fn=classify_image,\n",
    "  inputs=gr.Image(),\n",
    "  outputs=gr.Label(num_top_classes=3)\n",
    ")\n",
    "\n",
    "def reshape_img(img):\n",
    "\n",
    "\n",
    "\n",
    "  # Get image array from Gradio\n",
    "  img = img['image']\n",
    "  inp = Image.fromarray(img)\n",
    "  inp = inp.resize((224, 224))\n",
    "  inp = np.array(inp)\n",
    "  # Reshape \n",
    "  #img = resize(img, (224, 224)) \n",
    "  img = inp.reshape(224, 224, 3)\n",
    "  \n",
    "  return classify_image(img)\n",
    "\n",
    "iface.launch(reshape_img)\n"
   ]
  }
 ],
 "metadata": {
  "kernelspec": {
   "display_name": ".venv",
   "language": "python",
   "name": "python3"
  },
  "language_info": {
   "codemirror_mode": {
    "name": "ipython",
    "version": 3
   },
   "file_extension": ".py",
   "mimetype": "text/x-python",
   "name": "python",
   "nbconvert_exporter": "python",
   "pygments_lexer": "ipython3",
   "version": "3.10.13"
  }
 },
 "nbformat": 4,
 "nbformat_minor": 2
}
